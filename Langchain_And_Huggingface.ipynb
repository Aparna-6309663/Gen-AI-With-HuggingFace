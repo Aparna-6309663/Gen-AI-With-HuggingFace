{
  "nbformat": 4,
  "nbformat_minor": 0,
  "metadata": {
    "colab": {
      "provenance": [],
      "gpuType": "T4",
      "authorship_tag": "ABX9TyNg1kdEcQsM34KPVUtYpkHs",
      "include_colab_link": true
    },
    "kernelspec": {
      "name": "python3",
      "display_name": "Python 3"
    },
    "language_info": {
      "name": "python"
    },
    "accelerator": "GPU"
  },
  "cells": [
    {
      "cell_type": "markdown",
      "metadata": {
        "id": "view-in-github",
        "colab_type": "text"
      },
      "source": [
        "<a href=\"https://colab.research.google.com/github/Aparna-6309663/Gen-AI-With-HuggingFace/blob/main/Langchain_And_Huggingface.ipynb\" target=\"_parent\"><img src=\"https://colab.research.google.com/assets/colab-badge.svg\" alt=\"Open In Colab\"/></a>"
      ]
    },
    {
      "cell_type": "markdown",
      "source": [
        "#Huggingface with Langchain"
      ],
      "metadata": {
        "id": "oi-9pQ5rWCpt"
      }
    },
    {
      "cell_type": "code",
      "source": [
        "## Libraries Required\n",
        "!pip install langchain-huggingface\n",
        "## For API Calls\n",
        "!pip install huggingface_hub\n",
        "!pip install transformers\n",
        "!pip install accelerate\n",
        "!pip install  bitsandbytes\n",
        "!pip install langchain"
      ],
      "metadata": {
        "id": "RYFqzNgXWNxq"
      },
      "execution_count": null,
      "outputs": []
    },
    {
      "cell_type": "code",
      "source": [
        "# Environment secret keys\n",
        "from google.colab import userdata\n",
        "sec_key=userdata.get(\"HF_TOKEN\")\n",
        "print(sec_key)"
      ],
      "metadata": {
        "id": "EcLpmmVIbVzv"
      },
      "execution_count": null,
      "outputs": []
    },
    {
      "cell_type": "markdown",
      "source": [
        "#HuggingFace Endpoint"
      ],
      "metadata": {
        "id": "mTK-Tb8Xge_3"
      }
    },
    {
      "cell_type": "markdown",
      "source": [
        "#How to use HuggingFace models with API"
      ],
      "metadata": {
        "id": "nix5oT-GgmLq"
      }
    },
    {
      "cell_type": "code",
      "source": [
        "from langchain_huggingface import HuggingFaceEndpoint"
      ],
      "metadata": {
        "id": "PRfKu8Y5graB"
      },
      "execution_count": null,
      "outputs": []
    },
    {
      "cell_type": "code",
      "source": [
        "# Environment secret keys\n",
        "from google.colab import userdata\n",
        "sec_key=userdata.get(\"HUGGINGFACEHUB_API_TOKEN\")\n",
        "print(sec_key)"
      ],
      "metadata": {
        "id": "PsNrq1P9mKfO"
      },
      "execution_count": null,
      "outputs": []
    },
    {
      "cell_type": "code",
      "source": [
        "import os\n",
        "os.environ[\"HUGGINGFACEHUB_API_TOKEN\"] = sec_key"
      ],
      "metadata": {
        "id": "a5bSyJrlkVDD"
      },
      "execution_count": null,
      "outputs": []
    },
    {
      "cell_type": "code",
      "source": [
        "repo_id = \"mistralai/Mistral-7B-Instruct-v0.2\"\n",
        "llm = HuggingFaceEndpoint(repo_id=repo_id, max_length=200, temperature=0.5,token=sec_key)"
      ],
      "metadata": {
        "id": "SbVOIBfv2dZh"
      },
      "execution_count": null,
      "outputs": []
    },
    {
      "cell_type": "code",
      "source": [
        "llm"
      ],
      "metadata": {
        "id": "o-abYScO249W"
      },
      "execution_count": null,
      "outputs": []
    },
    {
      "cell_type": "code",
      "source": [
        "llm.invoke(\"What is needed to become an AI engineer?\")"
      ],
      "metadata": {
        "id": "rO8kXu3e3SgP"
      },
      "execution_count": null,
      "outputs": []
    },
    {
      "cell_type": "markdown",
      "source": [
        "##Mistral-7B-Instructor-v0.3"
      ],
      "metadata": {
        "id": "_x7mWfKH3yab"
      }
    },
    {
      "cell_type": "code",
      "source": [
        "repo_id = \"mistralai/Mistral-7B-Instruct-v0.3\"\n",
        "llm = HuggingFaceEndpoint(repo_id=repo_id, max_length=200, temperature=0.5,token=sec_key)"
      ],
      "metadata": {
        "id": "-p8bFYrx3vLs"
      },
      "execution_count": null,
      "outputs": []
    },
    {
      "cell_type": "code",
      "source": [
        "llm"
      ],
      "metadata": {
        "id": "lJXup_Iu4HsL"
      },
      "execution_count": null,
      "outputs": []
    },
    {
      "cell_type": "code",
      "source": [
        "llm.invoke(\"What is Generative AI\")"
      ],
      "metadata": {
        "id": "e3J0UTUc4Mi2"
      },
      "execution_count": null,
      "outputs": []
    },
    {
      "cell_type": "code",
      "source": [
        "llm.invoke(\"Give short paragraph to say What is Generative AI\")"
      ],
      "metadata": {
        "id": "3kMRE6Sf4mrz"
      },
      "execution_count": null,
      "outputs": []
    },
    {
      "cell_type": "code",
      "source": [
        "from langchain import PromptTemplate, LLMChain\n",
        "\n",
        "Question = \"What are the sub-domains of Generative AI?\"\n",
        "template = \"\"\"Question: {Question}\n",
        "Answer: Let's think step by step.\"\"\"\n",
        "prompt = PromptTemplate(template=template, input_variables=[\"Question\"])\n",
        "print(prompt)\n"
      ],
      "metadata": {
        "id": "r0NsI0o440KD"
      },
      "execution_count": null,
      "outputs": []
    },
    {
      "cell_type": "code",
      "source": [
        "llm_chain = LLMChain(llm=llm, prompt=prompt)\n",
        "print(llm_chain.invoke(Question))"
      ],
      "metadata": {
        "id": "yU1c6TUS7gMf"
      },
      "execution_count": null,
      "outputs": []
    },
    {
      "cell_type": "markdown",
      "source": [
        "###Another way of accessing HuggingFace models"
      ],
      "metadata": {
        "id": "Z2fguJpg-glM"
      }
    },
    {
      "cell_type": "code",
      "source": [
        "from langchain_huggingface import HuggingFacePipeline\n",
        "\n",
        "from langchain_huggingface import HuggingFacePipeline\n",
        "from transformers import AutoModelForCausalLM, AutoTokenizer, pipeline"
      ],
      "metadata": {
        "id": "cRO6fW4mA2Ok"
      },
      "execution_count": null,
      "outputs": []
    },
    {
      "cell_type": "code",
      "source": [
        "## Use HuggingFace pipeline with GPU\n",
        "gpu_llm = HuggingFacePipeline.from_model_id(\n",
        "    model_id = \"gpt2\",\n",
        "    task = \"text-generation\",\n",
        "    device = 0,\n",
        "    pipeline_kwargs = {\"max_length\": 100},\n",
        ")"
      ],
      "metadata": {
        "id": "LijAdWHt-1Wv"
      },
      "execution_count": null,
      "outputs": []
    },
    {
      "cell_type": "code",
      "source": [
        "from langchain_core.prompts import PromptTemplate\n",
        "\n",
        "template = \"\"\"Question: {question}\n",
        "\n",
        "Answer: Let's think step by step.\"\"\"\n",
        "prompt = PromptTemplate.from_template(template)\n",
        "print(prompt)"
      ],
      "metadata": {
        "id": "NFFPU187GF75"
      },
      "execution_count": null,
      "outputs": []
    },
    {
      "cell_type": "code",
      "source": [
        "chain = prompt| gpu_llm"
      ],
      "metadata": {
        "id": "nVR9epblGLe0"
      },
      "execution_count": null,
      "outputs": []
    },
    {
      "cell_type": "code",
      "source": [
        "question = \"What is an Artifical Intelligence?\"\n",
        "chain.invoke({\"question\": question})\n"
      ],
      "metadata": {
        "id": "o1HVuAfhGVVC"
      },
      "execution_count": null,
      "outputs": []
    }
  ]
}